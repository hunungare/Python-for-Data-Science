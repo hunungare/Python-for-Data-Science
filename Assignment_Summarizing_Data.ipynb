{
  "nbformat": 4,
  "nbformat_minor": 0,
  "metadata": {
    "colab": {
      "provenance": [],
      "include_colab_link": true
    },
    "kernelspec": {
      "name": "python3",
      "display_name": "Python 3"
    }
  },
  "cells": [
    {
      "cell_type": "markdown",
      "metadata": {
        "id": "view-in-github",
        "colab_type": "text"
      },
      "source": [
        "<a href=\"https://colab.research.google.com/github/hunungare/Python-for-Data-Science/blob/main/Assignment_Summarizing_Data.ipynb\" target=\"_parent\"><img src=\"https://colab.research.google.com/assets/colab-badge.svg\" alt=\"Open In Colab\"/></a>"
      ]
    },
    {
      "cell_type": "markdown",
      "metadata": {
        "id": "a5m1VFY29bPV"
      },
      "source": [
        "# Problem 1\n",
        "\n",
        "Write a function which calculates the mode of a list of numbers. If there are two modes in the dataset, it should return both."
      ]
    },
    {
      "cell_type": "code",
      "metadata": {
        "id": "ZQDOGM_j9pOw"
      },
      "source": [],
      "execution_count": null,
      "outputs": []
    },
    {
      "cell_type": "code",
      "metadata": {
        "id": "oxzy_M4a9qhj"
      },
      "source": [],
      "execution_count": null,
      "outputs": []
    },
    {
      "cell_type": "code",
      "metadata": {
        "id": "i7ILDPdO9qZ3"
      },
      "source": [],
      "execution_count": null,
      "outputs": []
    },
    {
      "cell_type": "code",
      "metadata": {
        "id": "LC4MQWPz9qP8"
      },
      "source": [],
      "execution_count": null,
      "outputs": []
    },
    {
      "cell_type": "code",
      "metadata": {
        "id": "9MT9904S9qHB"
      },
      "source": [],
      "execution_count": null,
      "outputs": []
    },
    {
      "cell_type": "markdown",
      "metadata": {
        "id": "usbgmzHr9rK-"
      },
      "source": [
        "# Problem 2\n",
        "\n",
        "Perform outlier removal in the `duration` column of `phone_data.csv`\n",
        "\n",
        "Plot the boxplot and distplot post outlier removal."
      ]
    },
    {
      "cell_type": "code",
      "metadata": {
        "id": "yjcLiEwv9p9J"
      },
      "source": [],
      "execution_count": null,
      "outputs": []
    },
    {
      "cell_type": "code",
      "metadata": {
        "id": "5Cm5s0Jzhzlk"
      },
      "source": [],
      "execution_count": null,
      "outputs": []
    },
    {
      "cell_type": "code",
      "metadata": {
        "id": "31r_9iM9hzeZ"
      },
      "source": [],
      "execution_count": null,
      "outputs": []
    },
    {
      "cell_type": "code",
      "metadata": {
        "id": "fYcdqCZChzVG"
      },
      "source": [],
      "execution_count": null,
      "outputs": []
    },
    {
      "cell_type": "code",
      "metadata": {
        "id": "fU1doXPMhzMP"
      },
      "source": [],
      "execution_count": null,
      "outputs": []
    },
    {
      "cell_type": "code",
      "metadata": {
        "id": "FexqhWZDh0cm"
      },
      "source": [],
      "execution_count": null,
      "outputs": []
    }
  ]
}