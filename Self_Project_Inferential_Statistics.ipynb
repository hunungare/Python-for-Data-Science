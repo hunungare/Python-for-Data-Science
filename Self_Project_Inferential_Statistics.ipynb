{
  "nbformat": 4,
  "nbformat_minor": 0,
  "metadata": {
    "colab": {
      "provenance": [],
      "include_colab_link": true
    },
    "kernelspec": {
      "name": "python3",
      "display_name": "Python 3"
    }
  },
  "cells": [
    {
      "cell_type": "markdown",
      "metadata": {
        "id": "view-in-github",
        "colab_type": "text"
      },
      "source": [
        "<a href=\"https://colab.research.google.com/github/hunungare/Python-for-Data-Science/blob/main/Self_Project_Inferential_Statistics.ipynb\" target=\"_parent\"><img src=\"https://colab.research.google.com/assets/colab-badge.svg\" alt=\"Open In Colab\"/></a>"
      ]
    },
    {
      "cell_type": "code",
      "metadata": {
        "id": "3esVBW4i70f9"
      },
      "source": [
        "from scipy.stats import uniform\n",
        "from scipy.stats import norm\n",
        "from scipy.stats import chi2\n",
        "from scipy.stats import t\n",
        "from scipy.stats import f"
      ],
      "execution_count": null,
      "outputs": []
    },
    {
      "cell_type": "markdown",
      "metadata": {
        "id": "3qjmg__vWv1-"
      },
      "source": [
        "# <b> <u> Use only these imported functions to check the confidence intervals or to obtain P-values </b>"
      ]
    },
    {
      "cell_type": "markdown",
      "metadata": {
        "id": "Oq9OIkpjU3hr"
      },
      "source": [
        "# <b><u> Problem 1 </u> </b>\n",
        "\n",
        "## <b>The average IQ of a sample of $N$ university students was found to be $\\bar{x}$. Write a Python function which performs a statistical test to determine whether the average IQ of university students is greater than $\\mu$, assuming that IQs are normally distributed. It is known from previous studies that the standard deviation of IQs among students is approximately $\\sigma$. This function can take the above parameters as arguments along with the significance level. Check the function outputs for the following input combinations. Also use only the functions imported above to perform the tests.</b>"
      ]
    },
    {
      "cell_type": "code",
      "metadata": {
        "id": "U7kH7roOPgCb"
      },
      "source": [
        "input_list = [{'sample_size' : 50 , 'sample_mean' : 105 , 'hypothesis_mean' : 100, 'population_std_deviation' : 20, 'significance_level' : 0.05},\n",
        "              {'sample_size' : 100 , 'sample_mean' : 102 , 'hypothesis_mean' : 100, 'population_std_deviation' : 30, 'significance_level' : 0.05},\n",
        "              {'sample_size' : 500 , 'sample_mean' : 110 , 'hypothesis_mean' : 100, 'population_std_deviation' : 10, 'significance_level' : 0.01}]"
      ],
      "execution_count": null,
      "outputs": []
    },
    {
      "cell_type": "code",
      "metadata": {
        "id": "c9Od9u61QG6j"
      },
      "source": [
        "# Your code here\n",
        "\n",
        "\n",
        "\n",
        "\n",
        "\n",
        "\n",
        "\n"
      ],
      "execution_count": null,
      "outputs": []
    },
    {
      "cell_type": "markdown",
      "metadata": {
        "id": "1ECG-HvyQ01v"
      },
      "source": [
        "# <b><u> Problem 2 </u> </b>\n",
        "\n",
        "## <b>Write a Python function to perform a statistical test to assess whether the standard deviation of the heights of 10- year-old children is equal to $\\sigma$ cm, based on the random sample of $N$ where $N$ < 20 heights in cm. You can use numpy functionality to generate the list of N heights between 120 and 140 which follow the normal distribution. You can use <code>np.randn() </code> to generate the sample heights. Your code should print all the possible conclusions based on the tests. Check the function outputs for N = 10, 15, 18. Also you can take values of $\\sigma$ to be 3, 4 and 5 respectively </b>"
      ]
    },
    {
      "cell_type": "code",
      "metadata": {
        "id": "Cg8Um9lnSHtB"
      },
      "source": [
        "# Your code here \n",
        "input_list = [{'sample_size' : 10 , 'hypothesis_std_dev' : 3,  'significance_level' : 0.05},\n",
        "              {'sample_size' : 15 , 'hypothesis_std_dev' : 4,  'significance_level' : 0.05},\n",
        "              {'sample_size' : 18  , 'hypothesis_std_dev' : 5,  'significance_level' : 0.01}]\n",
        "\n",
        "\n",
        "\n",
        "\n",
        "\n",
        "\n",
        "\n"
      ],
      "execution_count": null,
      "outputs": []
    },
    {
      "cell_type": "markdown",
      "metadata": {
        "id": "X7bIJKrivZ_T"
      },
      "source": [
        "# <b><u> Problem 3 </u></b>\n",
        "\n",
        "# <b> In a one-year mortality investigation, $m$ of the $M$ ninety-year-old males and $f$ of the $F$ ninety-year-old females present at the start of the investigation died before the end of the year. Assuming that the numbers of deaths follow binomial distributions, write a Python function to test whether there is a difference between male and female mortality rates at this age.</b>"
      ]
    },
    {
      "cell_type": "code",
      "metadata": {
        "id": "-cGOyeDnTqyH"
      },
      "source": [
        "# Your code here \n",
        "input_list = [{'dead_males' : 25 , 'males' : 100,  'dead_females' : 20, 'females' : 150 ,  'significance_level' : 0.05},\n",
        "              {'dead_males' : 30 , 'males' : 110,  'dead_females' : 20, 'females' : 160 ,  'significance_level' : 0.05},\n",
        "              {'dead_males' : 20 , 'males' : 100,  'dead_females' : 20, 'females' : 120 ,  'significance_level' : 0.01}]\n",
        "\n",
        "\n",
        "\n",
        "\n",
        "\n",
        "\n"
      ],
      "execution_count": null,
      "outputs": []
    }
  ]
}